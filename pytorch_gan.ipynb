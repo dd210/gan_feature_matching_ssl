{
 "cells": [
  {
   "cell_type": "markdown",
   "metadata": {},
   "source": [
    "## GANs\n",
    "Base implementations: \n",
    "- https://github.com/wiseodd/generative-models/blob/master/GAN/vanilla_gan/gan_pytorch.py\n",
    "- https://github.com/znxlwm/pytorch-MNIST-CelebA-GAN-DCGAN/blob/master/pytorch_MNIST_DCGAN.py\n",
    "- https://github.com/pytorch/examples/blob/master/dcgan/main.py"
   ]
  },
  {
   "cell_type": "code",
   "execution_count": 1,
   "metadata": {},
   "outputs": [],
   "source": [
    "%load_ext autoreload\n",
    "%autoreload 2\n",
    "%matplotlib inline"
   ]
  },
  {
   "cell_type": "markdown",
   "metadata": {},
   "source": [
    "### MNIST-DCGAN"
   ]
  },
  {
   "cell_type": "code",
   "execution_count": 2,
   "metadata": {},
   "outputs": [],
   "source": [
    "import torch\n",
    "import torch.nn as nn\n",
    "import torch.optim as optim\n",
    "import matplotlib.pyplot as plt\n",
    "\n",
    "from torch.autograd import Variable\n",
    "from utils import get_data_loaders, plot_grid"
   ]
  },
  {
   "cell_type": "code",
   "execution_count": 3,
   "metadata": {},
   "outputs": [
    {
     "name": "stdout",
     "output_type": "stream",
     "text": [
      "use_cuda: True\n"
     ]
    }
   ],
   "source": [
    "batch_size = 128\n",
    "z_dim = 64\n",
    "x_dim = 784\n",
    "h_dim = 200\n",
    "lr = 0.001\n",
    "use_cuda = torch.cuda.is_available()\n",
    "print('use_cuda: {}'.format(use_cuda))"
   ]
  },
  {
   "cell_type": "code",
   "execution_count": 6,
   "metadata": {},
   "outputs": [
    {
     "name": "stdout",
     "output_type": "stream",
     "text": [
      "Downloading https://www.cs.toronto.edu/~kriz/cifar-10-python.tar.gz to ./data/cifar-10-python.tar.gz\n",
      "Files already downloaded and verified\n"
     ]
    }
   ],
   "source": [
    "train_loader, test_loader = get_data_loaders('cifar10', batch_size=batch_size, use_cuda=use_cuda)"
   ]
  },
  {
   "cell_type": "code",
   "execution_count": 59,
   "metadata": {},
   "outputs": [],
   "source": [
    "D = nn.Sequential(nn.Linear(x_dim, h_dim),\n",
    "                 nn.ReLU(),\n",
    "                 nn.Linear(h_dim, 1),\n",
    "                 nn.Sigmoid())"
   ]
  },
  {
   "cell_type": "code",
   "execution_count": 60,
   "metadata": {},
   "outputs": [],
   "source": [
    "G = nn.Sequential(nn.Linear(z_dim, h_dim),\n",
    "                 nn.ReLU(),\n",
    "                 nn.Linear(h_dim, x_dim),\n",
    "                 nn.Sigmoid())"
   ]
  },
  {
   "cell_type": "code",
   "execution_count": null,
   "metadata": {},
   "outputs": [],
   "source": [
    "G = nn.Sequential(nn.Linear(z_dim, ))"
   ]
  },
  {
   "cell_type": "code",
   "execution_count": 61,
   "metadata": {},
   "outputs": [],
   "source": [
    "criterion = nn.BCELoss()\n",
    "ones_label = Variable(torch.ones(batch_size, 1))\n",
    "zeros_label = Variable(torch.zeros(batch_size, 1))\n",
    "if use_cuda:\n",
    "    ones_label = ones_label.cuda()\n",
    "    zeros_label = zeros_label.cuda()\n",
    "    D.cuda()\n",
    "    G.cuda()"
   ]
  },
  {
   "cell_type": "code",
   "execution_count": 62,
   "metadata": {},
   "outputs": [],
   "source": [
    "D_opt = optim.Adam(D.parameters(), lr=lr)\n",
    "G_opt = optim.Adam(G.parameters(), lr=lr)"
   ]
  },
  {
   "cell_type": "code",
   "execution_count": 63,
   "metadata": {},
   "outputs": [],
   "source": [
    "def train_epoch():\n",
    "    for i, (x, y) in enumerate(train_loader):\n",
    "        x = x.view(-1, x_dim)\n",
    "        if use_cuda:\n",
    "            x = x.cuda()\n",
    "        # train D: maximizing log(D(x)) + log(1 - D(G(z)))\n",
    "        z = torch.randn(batch_size, z_dim)\n",
    "        if use_cuda:\n",
    "            z = z.cuda()\n",
    "        G_sample = G(z)\n",
    "        D_real = D(x)\n",
    "        D_fake = D(G_sample)\n",
    "        D_loss_real = criterion(D_real, ones_label)\n",
    "        D_loss_fake = criterion(D_fake, zeros_label)\n",
    "        D_loss = D_loss_real + D_loss_fake\n",
    "        D_loss.backward()   # add detach to G?\n",
    "        D_opt.step()\n",
    "        D.zero_grad()\n",
    "        G.zero_grad()\n",
    "        # train G: maximizing maximize log(D(G(z)))\n",
    "        z = torch.randn(batch_size, z_dim)\n",
    "        if use_cuda:\n",
    "            z = z.cuda()\n",
    "        G_sample = G(z)\n",
    "        D_fake = D(G_sample)\n",
    "        G_loss = criterion(D_fake, ones_label)\n",
    "        G_loss.backward()\n",
    "        G_opt.step()\n",
    "        D.zero_grad()\n",
    "        G.zero_grad()"
   ]
  },
  {
   "cell_type": "code",
   "execution_count": 64,
   "metadata": {},
   "outputs": [],
   "source": [
    "G.training = True\n",
    "D.training = True"
   ]
  },
  {
   "cell_type": "code",
   "execution_count": 262,
   "metadata": {},
   "outputs": [
    {
     "name": "stdout",
     "output_type": "stream",
     "text": [
      "CPU times: user 5.46 s, sys: 53.4 ms, total: 5.51 s\n",
      "Wall time: 5.54 s\n"
     ]
    }
   ],
   "source": [
    "%time train_epoch()"
   ]
  },
  {
   "cell_type": "code",
   "execution_count": 267,
   "metadata": {},
   "outputs": [
    {
     "data": {
      "image/png": "[encoded data removed]",
      "text/plain": [
       "<matplotlib.figure.Figure at 0x7fa4abb310b8>"
      ]
     },
     "metadata": {},
     "output_type": "display_data"
    }
   ],
   "source": [
    "z = torch.randn(batch_size, z_dim).cuda()\n",
    "samples = G(z).data.cpu().numpy()[:16]\n",
    "plot_grid(samples, num=4, img_size=(28, 28))"
   ]
  },
  {
   "cell_type": "code",
   "execution_count": null,
   "metadata": {},
   "outputs": [],
   "source": []
  },
  {
   "cell_type": "code",
   "execution_count": null,
   "metadata": {},
   "outputs": [],
   "source": []
  },
  {
   "cell_type": "code",
   "execution_count": null,
   "metadata": {},
   "outputs": [],
   "source": []
  },
  {
   "cell_type": "code",
   "execution_count": null,
   "metadata": {},
   "outputs": [],
   "source": []
  },
  {
   "cell_type": "code",
   "execution_count": null,
   "metadata": {},
   "outputs": [],
   "source": []
  },
  {
   "cell_type": "code",
   "execution_count": null,
   "metadata": {},
   "outputs": [],
   "source": []
  },
  {
   "cell_type": "code",
   "execution_count": null,
   "metadata": {},
   "outputs": [],
   "source": []
  },
  {
   "cell_type": "code",
   "execution_count": null,
   "metadata": {},
   "outputs": [],
   "source": []
  },
  {
   "cell_type": "code",
   "execution_count": null,
   "metadata": {},
   "outputs": [],
   "source": []
  },
  {
   "cell_type": "code",
   "execution_count": null,
   "metadata": {},
   "outputs": [],
   "source": []
  },
  {
   "cell_type": "code",
   "execution_count": null,
   "metadata": {},
   "outputs": [],
   "source": []
  },
  {
   "cell_type": "code",
   "execution_count": null,
   "metadata": {},
   "outputs": [],
   "source": []
  },
  {
   "cell_type": "code",
   "execution_count": null,
   "metadata": {},
   "outputs": [],
   "source": []
  },
  {
   "cell_type": "code",
   "execution_count": null,
   "metadata": {},
   "outputs": [],
   "source": []
  }
 ],
 "metadata": {
  "kernelspec": {
   "display_name": "Python 3",
   "language": "python",
   "name": "python3"
  },
  "language_info": {
   "codemirror_mode": {
    "name": "ipython",
    "version": 3
   },
   "file_extension": ".py",
   "mimetype": "text/x-python",
   "name": "python",
   "nbconvert_exporter": "python",
   "pygments_lexer": "ipython3",
   "version": "3.6.4"
  }
 },
 "nbformat": 4,
 "nbformat_minor": 2
}
